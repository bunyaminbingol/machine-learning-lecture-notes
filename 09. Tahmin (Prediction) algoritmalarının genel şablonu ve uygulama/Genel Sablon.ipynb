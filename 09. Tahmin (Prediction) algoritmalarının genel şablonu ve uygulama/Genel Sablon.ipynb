{
 "cells": [
  {
   "cell_type": "markdown",
   "metadata": {},
   "source": [
    "# Tahmin Metotları için kullanılabilecek Python Şablonu"
   ]
  },
  {
   "cell_type": "markdown",
   "metadata": {},
   "source": [
    "# Kütüphaneler"
   ]
  },
  {
   "cell_type": "code",
   "execution_count": 1,
   "metadata": {},
   "outputs": [],
   "source": [
    "import numpy as np\n",
    "import matplotlib.pyplot as plt\n",
    "import pandas as pd\n",
    "from sklearn.metrics import r2_score\n",
    "import statsmodels.api as sm\n",
    "\n",
    "# numpy ve pandas kütüphanelerini veriyi işlemek ve hafızada yönlendirmek için kullanıyoruz (data frame gibi sınıflar için)"
   ]
  },
  {
   "cell_type": "markdown",
   "metadata": {},
   "source": [
    "# Veri Yükleme"
   ]
  },
  {
   "cell_type": "code",
   "execution_count": 2,
   "metadata": {},
   "outputs": [],
   "source": [
    "# veri yukleme\n",
    "\n",
    "veriler = pd.read_csv('veriler/maaslar_yeni.csv')\n",
    "x = veriler.iloc[:,2:5]\n",
    "y = veriler.iloc[:,5:]\n",
    "X = x.values\n",
    "Y = y.values\n",
    "\n",
    "# Veri yükleme aşamasında, verinin yükleneceği dosyanın yanında, bağımlı ve bağımsız değişkenleri içeren iki ayrı kolon oluşturulmalıdır. Bağımsız değişkenlerin tamamının x isminde bir dataframe içerisinde ve tek bir kolondan oluşan bağımlı değişkenleri ise y ismine bir data firma içerisinde duracağı kabulü yapılmıştır. Ayrıca X ve Y değişkenleri de numpy dizisi olarak bu dataframe'lerden .values özelliğini alır. "
   ]
  },
  {
   "cell_type": "markdown",
   "metadata": {},
   "source": [
    "# Korelasyon Matrisi"
   ]
  },
  {
   "cell_type": "code",
   "execution_count": 3,
   "metadata": {},
   "outputs": [
    {
     "name": "stdout",
     "output_type": "stream",
     "text": [
      "               Calisan ID  UnvanSeviyesi     Kidem      Puan      maas\n",
      "Calisan ID       1.000000       0.331847  0.206278 -0.251278  0.226287\n",
      "UnvanSeviyesi    0.331847       1.000000 -0.125200  0.034948  0.727036\n",
      "Kidem            0.206278      -0.125200  1.000000  0.322796  0.117964\n",
      "Puan            -0.251278       0.034948  0.322796  1.000000  0.201474\n",
      "maas             0.226287       0.727036  0.117964  0.201474  1.000000\n"
     ]
    }
   ],
   "source": [
    "print(veriler.corr()) \n",
    "\n",
    "# Veriler üzerinde karar verirken, kullanılacak önemli ön işleme aşamalarından birsi de korelasyon matrisidir ve bu matris ile kolonların birbiri ile olan ilişkisi görülebilir. "
   ]
  },
  {
   "cell_type": "markdown",
   "metadata": {},
   "source": [
    "# Linear Regression"
   ]
  },
  {
   "cell_type": "code",
   "execution_count": 4,
   "metadata": {},
   "outputs": [
    {
     "name": "stdout",
     "output_type": "stream",
     "text": [
      "                                 OLS Regression Results                                \n",
      "=======================================================================================\n",
      "Dep. Variable:                      y   R-squared (uncentered):                   0.903\n",
      "Model:                            OLS   Adj. R-squared (uncentered):              0.892\n",
      "Method:                 Least Squares   F-statistic:                              83.89\n",
      "Date:                Sun, 18 Oct 2020   Prob (F-statistic):                    8.38e-14\n",
      "Time:                        17:25:43   Log-Likelihood:                         -295.74\n",
      "No. Observations:                  30   AIC:                                      597.5\n",
      "Df Residuals:                      27   BIC:                                      601.7\n",
      "Df Model:                           3                                                  \n",
      "Covariance Type:            nonrobust                                                  \n",
      "==============================================================================\n",
      "                 coef    std err          t      P>|t|      [0.025      0.975]\n",
      "------------------------------------------------------------------------------\n",
      "x1          2494.8107    256.145      9.740      0.000    1969.244    3020.377\n",
      "x2             1.3531    318.990      0.004      0.997    -653.161     655.867\n",
      "x3           -26.5687     33.657     -0.789      0.437     -95.626      42.489\n",
      "==============================================================================\n",
      "Omnibus:                        0.440   Durbin-Watson:                   1.617\n",
      "Prob(Omnibus):                  0.803   Jarque-Bera (JB):                0.573\n",
      "Skew:                           0.109   Prob(JB):                        0.751\n",
      "Kurtosis:                       2.359   Cond. No.                         23.7\n",
      "==============================================================================\n",
      "\n",
      "Warnings:\n",
      "[1] Standard Errors assume that the covariance matrix of the errors is correctly specified.\n",
      "Linear R2 degeri:\n",
      "0.5857207050854022\n"
     ]
    }
   ],
   "source": [
    "from sklearn.linear_model import LinearRegression\n",
    "lin_reg = LinearRegression()\n",
    "lin_reg.fit(X,Y)\n",
    "model = sm.OLS(lin_reg.predict(X),X)\n",
    "print(model.fit().summary())\n",
    "print(\"Linear R2 degeri:\")\n",
    "print(r2_score(Y, lin_reg.predict((X))))\n",
    "\n",
    "# Sci-Kit Learn kütüphanesinin genel bir özelliği, fit() fonksiyonu ile eğitmesi ve predict fonksiyonu ile tahminde bulunmasıdır. Buradaki örnekte doğrusal regresyon (linear regression) üzerinden X ve Y dizileri verilerek bir makine öğrenmesi algoritması eğitilmiş ve oluşan model daha sonra OLS ve r2_score fonksiyonları ile ölçülmüştür. Ölçüm sırasında gerçek verileri tutan Y değişkeni (numpy dizisi) ile lin_reg objesinin predict fonksiyonun döndürdüğü tahmin değerleri (yani modelin tahmin etttiği değerler) karşılaştırılmış dolayısıyla modelin ne kadar başarılı tahmin yaptığı ölçülmüştür."
   ]
  },
  {
   "cell_type": "markdown",
   "metadata": {},
   "source": [
    "# Polynomial Regression"
   ]
  },
  {
   "cell_type": "code",
   "execution_count": 5,
   "metadata": {},
   "outputs": [
    {
     "name": "stdout",
     "output_type": "stream",
     "text": [
      "[[1.0000000e+00 1.0000000e+00 5.0000000e+00 ... 1.2250000e+05\n",
      "  1.7150000e+06 2.4010000e+07]\n",
      " [1.0000000e+00 2.0000000e+00 5.0000000e+00 ... 1.2250000e+05\n",
      "  1.7150000e+06 2.4010000e+07]\n",
      " [1.0000000e+00 3.0000000e+00 5.0000000e+00 ... 1.2250000e+05\n",
      "  1.7150000e+06 2.4010000e+07]\n",
      " ...\n",
      " [1.0000000e+00 8.0000000e+00 1.0000000e+01 ... 1.4440000e+05\n",
      "  5.4872000e+05 2.0851360e+06]\n",
      " [1.0000000e+00 9.0000000e+00 1.0000000e+00 ... 2.5000000e+03\n",
      "  1.2500000e+05 6.2500000e+06]\n",
      " [1.0000000e+00 1.0000000e+01 9.0000000e+00 ... 5.5800900e+05\n",
      "  5.1460830e+06 4.7458321e+07]]\n",
      "0.9990003560225863\n"
     ]
    }
   ],
   "source": [
    "from sklearn.preprocessing import PolynomialFeatures\n",
    "poly_reg = PolynomialFeatures(degree = 4)\n",
    "x_poly = poly_reg.fit_transform(X)\n",
    "print(x_poly)\n",
    "lin_reg2 = LinearRegression()\n",
    "lin_reg2.fit(x_poly,y)\n",
    "model2 = sm.OLS(lin_reg2.predict(poly_reg.fit_transform(X)),X)\n",
    "print(r2_score(Y, lin_reg2.predict(poly_reg.fit_transform(X)) ))\n",
    "\n",
    "# Polynomial regression yöntemi aslında doğrusal regresyondan farklı değildir. Hatta aynı nesne ve fonksiyonların kullanıldığı söylenebilir. Buradaki hile, verilerin doğrusal regresyona verilmeden önce bir polinom öznitelik fonksiyonuna verilmesidir. bu işlem yukarıdaki kodda da gösterildiği üzere, PolynomialFeattures nesnesi üzerinden yapılmaktadır. "
   ]
  },
  {
   "cell_type": "markdown",
   "metadata": {},
   "source": [
    "# Destek Vektör Regresyonu ve Ölçekleme (Support Vector Regression , Scaling)"
   ]
  },
  {
   "cell_type": "code",
   "execution_count": 6,
   "metadata": {},
   "outputs": [
    {
     "name": "stdout",
     "output_type": "stream",
     "text": [
      "                                 OLS Regression Results                                \n",
      "=======================================================================================\n",
      "Dep. Variable:                      y   R-squared (uncentered):                   0.782\n",
      "Model:                            OLS   Adj. R-squared (uncentered):              0.758\n",
      "Method:                 Least Squares   F-statistic:                              32.37\n",
      "Date:                Sun, 18 Oct 2020   Prob (F-statistic):                    4.34e-09\n",
      "Time:                        17:30:38   Log-Likelihood:                        -0.92453\n",
      "No. Observations:                  30   AIC:                                      7.849\n",
      "Df Residuals:                      27   BIC:                                      12.05\n",
      "Df Model:                           3                                                  \n",
      "Covariance Type:            nonrobust                                                  \n",
      "==============================================================================\n",
      "                 coef    std err          t      P>|t|      [0.025      0.975]\n",
      "------------------------------------------------------------------------------\n",
      "x1             0.4715      0.049      9.709      0.000       0.372       0.571\n",
      "x2             0.0674      0.051      1.314      0.200      -0.038       0.173\n",
      "x3             0.0427      0.051      0.839      0.409      -0.062       0.147\n",
      "==============================================================================\n",
      "Omnibus:                        3.662   Durbin-Watson:                   0.494\n",
      "Prob(Omnibus):                  0.160   Jarque-Bera (JB):                2.279\n",
      "Skew:                           0.464   Prob(JB):                        0.320\n",
      "Kurtosis:                       2.019   Cond. No.                         1.44\n",
      "==============================================================================\n",
      "\n",
      "Warnings:\n",
      "[1] Standard Errors assume that the covariance matrix of the errors is correctly specified.\n",
      "0.6287203839391852\n"
     ]
    }
   ],
   "source": [
    "from sklearn.preprocessing import StandardScaler\n",
    "sc1 = StandardScaler()\n",
    "x_olcekli = sc1.fit_transform(X)\n",
    "sc2 = StandardScaler()\n",
    "y_olcekli = np.ravel(sc2.fit_transform(Y.reshape(-1,1)))\n",
    "from sklearn.svm import SVR\n",
    "svr_reg = SVR(kernel = 'rbf')\n",
    "svr_reg.fit(x_olcekli,y_olcekli)\n",
    "model3 = sm.OLS(svr_reg.predict(x_olcekli),x_olcekli)\n",
    "print(model3.fit().summary())\n",
    "print(r2_score(y_olcekli, svr_reg.predict(x_olcekli)) )\n",
    "\n",
    "# Destek vektör regresyonunun en önemli özelliği, marjinal verilere karşı hassas olmasıdır. Bu yüzden ve verilerin daha iyi tahminini sağlamak için, öncelikle standartlaştırma yapılması gerekir. Yukarıdaki kodun ilk parçasında, StandardScaler sınıfından türettilmiş sc1 ve sc2 nesneleri sayesinde hem X hem de Y dizileri ölçeklenmektedir. Ardından SVR sınıfından rbf çekirdeği (kernel) ile üretilen svr_reg isimli nesne ile tahmin modeli oluşturulmakta, bunun için de sklearn klasiği olan fit metodu kullanılmaktadır"
   ]
  },
  {
   "cell_type": "markdown",
   "metadata": {},
   "source": [
    "# Karar Ağacı ile Tahmin (Decision Tree)"
   ]
  },
  {
   "cell_type": "code",
   "execution_count": 7,
   "metadata": {},
   "outputs": [
    {
     "name": "stdout",
     "output_type": "stream",
     "text": [
      "Decision Tree OLS\n",
      "                                 OLS Regression Results                                \n",
      "=======================================================================================\n",
      "Dep. Variable:                      y   R-squared (uncentered):                   0.679\n",
      "Model:                            OLS   Adj. R-squared (uncentered):              0.644\n",
      "Method:                 Least Squares   F-statistic:                              19.08\n",
      "Date:                Sun, 18 Oct 2020   Prob (F-statistic):                    7.62e-07\n",
      "Time:                        17:32:58   Log-Likelihood:                         -317.95\n",
      "No. Observations:                  30   AIC:                                      641.9\n",
      "Df Residuals:                      27   BIC:                                      646.1\n",
      "Df Model:                           3                                                  \n",
      "Covariance Type:            nonrobust                                                  \n",
      "==============================================================================\n",
      "                 coef    std err          t      P>|t|      [0.025      0.975]\n",
      "------------------------------------------------------------------------------\n",
      "x1          2494.8107    537.146      4.645      0.000    1392.677    3596.944\n",
      "x2             1.3531    668.935      0.002      0.998   -1371.187    1373.894\n",
      "x3           -26.5687     70.579     -0.376      0.710    -171.385     118.248\n",
      "==============================================================================\n",
      "Omnibus:                       40.370   Durbin-Watson:                   1.194\n",
      "Prob(Omnibus):                  0.000   Jarque-Bera (JB):              125.722\n",
      "Skew:                           2.897   Prob(JB):                     5.01e-28\n",
      "Kurtosis:                      11.186   Cond. No.                         23.7\n",
      "==============================================================================\n",
      "\n",
      "Warnings:\n",
      "[1] Standard Errors assume that the covariance matrix of the errors is correctly specified.\n",
      "Decision Tree R2 degeri:\n",
      "1.0\n"
     ]
    }
   ],
   "source": [
    "from sklearn.tree import DecisionTreeRegressor\n",
    "r_dt = DecisionTreeRegressor(random_state=0)\n",
    "r_dt.fit(X,Y)\n",
    "print('Decision Tree OLS')\n",
    "model4 = sm.OLS(r_dt.predict(X),X)\n",
    "print(model4.fit().summary())\n",
    "print(\"Decision Tree R2 degeri:\")\n",
    "print(r2_score(Y, r_dt.predict(X)) )\n",
    "\n",
    "# Yapı olarak buraya kadar kullanılan sınıflandırma algoritmalarından pek de farklı olmayan karar ağacı sınıflandırması, DecisionTreeRegressor sınıfından türetilmiş ve yine X ve Y dizileri üzerinde fit() metodu ile bir model inşası için kullanılmıştır. "
   ]
  },
  {
   "cell_type": "markdown",
   "metadata": {},
   "source": [
    "# Rassal Orman (Random Forest)"
   ]
  },
  {
   "cell_type": "code",
   "execution_count": 9,
   "metadata": {},
   "outputs": [
    {
     "name": "stdout",
     "output_type": "stream",
     "text": [
      "Random Forest OLS\n",
      "                                 OLS Regression Results                                \n",
      "=======================================================================================\n",
      "Dep. Variable:                      y   R-squared (uncentered):                   0.713\n",
      "Model:                            OLS   Adj. R-squared (uncentered):              0.681\n",
      "Method:                 Least Squares   F-statistic:                              22.31\n",
      "Date:                Sun, 18 Oct 2020   Prob (F-statistic):                    1.79e-07\n",
      "Time:                        17:34:01   Log-Likelihood:                         -316.07\n",
      "No. Observations:                  30   AIC:                                      638.1\n",
      "Df Residuals:                      27   BIC:                                      642.3\n",
      "Df Model:                           3                                                  \n",
      "Covariance Type:            nonrobust                                                  \n",
      "==============================================================================\n",
      "                 coef    std err          t      P>|t|      [0.025      0.975]\n",
      "------------------------------------------------------------------------------\n",
      "x1          2671.9265    504.444      5.297      0.000    1636.892    3706.961\n",
      "x2             1.0522    628.209      0.002      0.999   -1287.927    1290.031\n",
      "x3           -44.2927     66.282     -0.668      0.510    -180.293      91.707\n",
      "==============================================================================\n",
      "Omnibus:                       32.588   Durbin-Watson:                   1.349\n",
      "Prob(Omnibus):                  0.000   Jarque-Bera (JB):               73.156\n",
      "Skew:                           2.425   Prob(JB):                     1.30e-16\n",
      "Kurtosis:                       8.916   Cond. No.                         23.7\n",
      "==============================================================================\n",
      "\n",
      "Warnings:\n",
      "[1] Standard Errors assume that the covariance matrix of the errors is correctly specified.\n",
      "Random Forest R2 degeri:\n",
      "0.9475498704400864\n"
     ]
    }
   ],
   "source": [
    "from sklearn.ensemble import RandomForestRegressor\n",
    "rf_reg = RandomForestRegressor(n_estimators = 10, random_state=0)\n",
    "rf_reg.fit(X,Y.ravel())\n",
    "print('Random Forest OLS')\n",
    "model5 = sm.OLS(rf_reg.predict(X),X)\n",
    "print(model5.fit().summary())\n",
    "print(\"Random Forest R2 degeri:\")\n",
    "print(r2_score(Y, rf_reg.predict(X)) )\n",
    "\n",
    "# Alt yapısında karar ağacı kullanan rassal ormanlar (random forest), şimdiye kadar elde ettiğimiz yapıya çok benzer şekilde, sklearn kütüphanesi içerisinden bir sınıf olarak RandomForestRegressor eklemiş (import) ve bu sınıftan da ürettiğimiz nesne ile fit() ve predict() metotlarını kullanarak makine öğrenmesini gerçekleştirmiştir. "
   ]
  },
  {
   "cell_type": "markdown",
   "metadata": {},
   "source": [
    "## Neler Öğrendik:\n",
    "1. Sci-Kit Learn kütüphanesinin genel akışını ve fit(), predict() gibi metotların genel kullanımını\n",
    "2. Doğrusal regresyon, Polinomla regresyon, destek vektör regresyonu, karar ağacı regresyonu ve rassal orman regresyonu metotlarının kullanımını\n",
    "3. Korrelasyon matrisini ve önemini\n",
    "4. r2_score ve OLS metotları ile yöntemler arasında karşılaştırma yapmayı\n"
   ]
  },
  {
   "cell_type": "code",
   "execution_count": null,
   "metadata": {},
   "outputs": [],
   "source": []
  }
 ],
 "metadata": {
  "kernelspec": {
   "display_name": "Python 3",
   "language": "python",
   "name": "python3"
  },
  "language_info": {
   "codemirror_mode": {
    "name": "ipython",
    "version": 3
   },
   "file_extension": ".py",
   "mimetype": "text/x-python",
   "name": "python",
   "nbconvert_exporter": "python",
   "pygments_lexer": "ipython3",
   "version": "3.7.4"
  }
 },
 "nbformat": 4,
 "nbformat_minor": 2
}
